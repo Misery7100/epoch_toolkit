{
 "cells": [
  {
   "cell_type": "code",
   "execution_count": 1,
   "metadata": {},
   "outputs": [],
   "source": [
    "import epoch_toolkit as et"
   ]
  },
  {
   "cell_type": "code",
   "execution_count": 2,
   "metadata": {},
   "outputs": [
    {
     "name": "stderr",
     "output_type": "stream",
     "text": [
      "2024-05-09 09:40:59,008 | INFO :: handler :: Reading file: ../test_data/0005.sdf\n",
      "2024-05-09 09:40:59,020 | INFO :: handler :: Capturing grid...\n",
      "2024-05-09 09:40:59,021 | INFO :: handler :: Grid: 3D (250, 250, 250)\n"
     ]
    }
   ],
   "source": [
    "handler = et.handler.FileHandler(unit=\"nano\")\n",
    "handler.read(\"../test_data/0005.sdf\")"
   ]
  },
  {
   "cell_type": "code",
   "execution_count": 9,
   "metadata": {},
   "outputs": [
    {
     "data": {
      "text/plain": [
       "['Absorption_Fraction_of_Laser_Energy_Absorbed____',\n",
       " 'Absorption_Total_Laser_Energy_Injected__J_',\n",
       " 'CPU_split_electron',\n",
       " 'CPU_split_xenon',\n",
       " 'CPUs_Current_rank',\n",
       " 'CPUs_Original_rank',\n",
       " 'Derived_Mass_Density',\n",
       " 'Derived_Mass_Density_electron',\n",
       " 'Derived_Mass_Density_xenon',\n",
       " 'Derived_Number_Density',\n",
       " 'Derived_Number_Density_electron',\n",
       " 'Derived_Number_Density_xenon',\n",
       " 'Derived_Temperature',\n",
       " 'Derived_Temperature_electron',\n",
       " 'Derived_Temperature_xenon',\n",
       " 'Grid_CPU_split_electron',\n",
       " 'Grid_CPU_split_electron_mid',\n",
       " 'Grid_CPU_split_xenon',\n",
       " 'Grid_CPU_split_xenon_mid',\n",
       " 'Grid_CPUs_Original_rank',\n",
       " 'Grid_CPUs_Original_rank_mid',\n",
       " 'Grid_Grid',\n",
       " 'Grid_Grid_mid',\n",
       " 'Grid_Particles_electron',\n",
       " 'Grid_Particles_xenon',\n",
       " 'Header',\n",
       " 'Particles_Px_electron',\n",
       " 'Particles_Px_xenon',\n",
       " 'Particles_Py_electron',\n",
       " 'Particles_Py_xenon',\n",
       " 'Particles_Pz_electron',\n",
       " 'Particles_Pz_xenon',\n",
       " 'Run_info',\n",
       " 'Surface_Values_boundary_CPU_split_electron',\n",
       " 'Surface_Values_boundary_CPU_split_xenon',\n",
       " 'Surface_Values_boundary_CPUs_Current_rank',\n",
       " 'Surface_Values_boundary_CPUs_Original_rank',\n",
       " 'Surface_Values_boundary_Derived_Mass_Density',\n",
       " 'Surface_Values_boundary_Derived_Mass_Density_electron',\n",
       " 'Surface_Values_boundary_Derived_Mass_Density_xenon',\n",
       " 'Surface_Values_boundary_Derived_Number_Density',\n",
       " 'Surface_Values_boundary_Derived_Number_Density_electron',\n",
       " 'Surface_Values_boundary_Derived_Number_Density_xenon',\n",
       " 'Surface_Values_boundary_Derived_Temperature',\n",
       " 'Surface_Values_boundary_Derived_Temperature_electron',\n",
       " 'Surface_Values_boundary_Derived_Temperature_xenon',\n",
       " 'Surface_Values_boundary_x_max_CPU_split_electron',\n",
       " 'Surface_Values_boundary_x_max_CPU_split_xenon',\n",
       " 'Surface_Values_boundary_x_max_CPUs_Current_rank',\n",
       " 'Surface_Values_boundary_x_max_CPUs_Original_rank',\n",
       " 'Surface_Values_boundary_x_max_Derived_Mass_Density',\n",
       " 'Surface_Values_boundary_x_max_Derived_Mass_Density_electron',\n",
       " 'Surface_Values_boundary_x_max_Derived_Mass_Density_xenon',\n",
       " 'Surface_Values_boundary_x_max_Derived_Number_Density',\n",
       " 'Surface_Values_boundary_x_max_Derived_Number_Density_electron',\n",
       " 'Surface_Values_boundary_x_max_Derived_Number_Density_xenon',\n",
       " 'Surface_Values_boundary_x_max_Derived_Temperature',\n",
       " 'Surface_Values_boundary_x_max_Derived_Temperature_electron',\n",
       " 'Surface_Values_boundary_x_max_Derived_Temperature_xenon',\n",
       " 'Surface_Values_boundary_x_min_CPU_split_electron',\n",
       " 'Surface_Values_boundary_x_min_CPU_split_xenon',\n",
       " 'Surface_Values_boundary_x_min_CPUs_Current_rank',\n",
       " 'Surface_Values_boundary_x_min_CPUs_Original_rank',\n",
       " 'Surface_Values_boundary_x_min_Derived_Mass_Density',\n",
       " 'Surface_Values_boundary_x_min_Derived_Mass_Density_electron',\n",
       " 'Surface_Values_boundary_x_min_Derived_Mass_Density_xenon',\n",
       " 'Surface_Values_boundary_x_min_Derived_Number_Density',\n",
       " 'Surface_Values_boundary_x_min_Derived_Number_Density_electron',\n",
       " 'Surface_Values_boundary_x_min_Derived_Number_Density_xenon',\n",
       " 'Surface_Values_boundary_x_min_Derived_Temperature',\n",
       " 'Surface_Values_boundary_x_min_Derived_Temperature_electron',\n",
       " 'Surface_Values_boundary_x_min_Derived_Temperature_xenon',\n",
       " 'Surface_Values_boundary_y_max_CPU_split_electron',\n",
       " 'Surface_Values_boundary_y_max_CPU_split_xenon',\n",
       " 'Surface_Values_boundary_y_max_CPUs_Current_rank',\n",
       " 'Surface_Values_boundary_y_max_CPUs_Original_rank',\n",
       " 'Surface_Values_boundary_y_max_Derived_Mass_Density',\n",
       " 'Surface_Values_boundary_y_max_Derived_Mass_Density_electron',\n",
       " 'Surface_Values_boundary_y_max_Derived_Mass_Density_xenon',\n",
       " 'Surface_Values_boundary_y_max_Derived_Number_Density',\n",
       " 'Surface_Values_boundary_y_max_Derived_Number_Density_electron',\n",
       " 'Surface_Values_boundary_y_max_Derived_Number_Density_xenon',\n",
       " 'Surface_Values_boundary_y_max_Derived_Temperature',\n",
       " 'Surface_Values_boundary_y_max_Derived_Temperature_electron',\n",
       " 'Surface_Values_boundary_y_max_Derived_Temperature_xenon',\n",
       " 'Surface_Values_boundary_y_min_CPU_split_electron',\n",
       " 'Surface_Values_boundary_y_min_CPU_split_xenon',\n",
       " 'Surface_Values_boundary_y_min_CPUs_Current_rank',\n",
       " 'Surface_Values_boundary_y_min_CPUs_Original_rank',\n",
       " 'Surface_Values_boundary_y_min_Derived_Mass_Density',\n",
       " 'Surface_Values_boundary_y_min_Derived_Mass_Density_electron',\n",
       " 'Surface_Values_boundary_y_min_Derived_Mass_Density_xenon',\n",
       " 'Surface_Values_boundary_y_min_Derived_Number_Density',\n",
       " 'Surface_Values_boundary_y_min_Derived_Number_Density_electron',\n",
       " 'Surface_Values_boundary_y_min_Derived_Number_Density_xenon',\n",
       " 'Surface_Values_boundary_y_min_Derived_Temperature',\n",
       " 'Surface_Values_boundary_y_min_Derived_Temperature_electron',\n",
       " 'Surface_Values_boundary_y_min_Derived_Temperature_xenon',\n",
       " 'Surface_Values_boundary_z_max_CPU_split_electron',\n",
       " 'Surface_Values_boundary_z_max_CPU_split_xenon',\n",
       " 'Surface_Values_boundary_z_max_CPUs_Current_rank',\n",
       " 'Surface_Values_boundary_z_max_CPUs_Original_rank',\n",
       " 'Surface_Values_boundary_z_max_Derived_Mass_Density',\n",
       " 'Surface_Values_boundary_z_max_Derived_Mass_Density_electron',\n",
       " 'Surface_Values_boundary_z_max_Derived_Mass_Density_xenon',\n",
       " 'Surface_Values_boundary_z_max_Derived_Number_Density',\n",
       " 'Surface_Values_boundary_z_max_Derived_Number_Density_electron',\n",
       " 'Surface_Values_boundary_z_max_Derived_Number_Density_xenon',\n",
       " 'Surface_Values_boundary_z_max_Derived_Temperature',\n",
       " 'Surface_Values_boundary_z_max_Derived_Temperature_electron',\n",
       " 'Surface_Values_boundary_z_max_Derived_Temperature_xenon',\n",
       " 'Surface_Values_boundary_z_min_CPU_split_electron',\n",
       " 'Surface_Values_boundary_z_min_CPU_split_xenon',\n",
       " 'Surface_Values_boundary_z_min_CPUs_Current_rank',\n",
       " 'Surface_Values_boundary_z_min_CPUs_Original_rank',\n",
       " 'Surface_Values_boundary_z_min_Derived_Mass_Density',\n",
       " 'Surface_Values_boundary_z_min_Derived_Mass_Density_electron',\n",
       " 'Surface_Values_boundary_z_min_Derived_Mass_Density_xenon',\n",
       " 'Surface_Values_boundary_z_min_Derived_Number_Density',\n",
       " 'Surface_Values_boundary_z_min_Derived_Number_Density_electron',\n",
       " 'Surface_Values_boundary_z_min_Derived_Number_Density_xenon',\n",
       " 'Surface_Values_boundary_z_min_Derived_Temperature',\n",
       " 'Surface_Values_boundary_z_min_Derived_Temperature_electron',\n",
       " 'Surface_Values_boundary_z_min_Derived_Temperature_xenon',\n",
       " 'Total_Field_Energy_in_Simulation__J_',\n",
       " 'Total_Particle_Energy_in_Simulation__J_',\n",
       " 'Wall_time',\n",
       " '__class__',\n",
       " '__delattr__',\n",
       " '__dict__',\n",
       " '__dir__',\n",
       " '__doc__',\n",
       " '__eq__',\n",
       " '__format__',\n",
       " '__ge__',\n",
       " '__getattribute__',\n",
       " '__gt__',\n",
       " '__hash__',\n",
       " '__init__',\n",
       " '__init_subclass__',\n",
       " '__le__',\n",
       " '__lt__',\n",
       " '__ne__',\n",
       " '__new__',\n",
       " '__reduce__',\n",
       " '__reduce_ex__',\n",
       " '__repr__',\n",
       " '__setattr__',\n",
       " '__sizeof__',\n",
       " '__str__',\n",
       " '__subclasshook__']"
      ]
     },
     "execution_count": 9,
     "metadata": {},
     "output_type": "execute_result"
    }
   ],
   "source": [
    "dir(handler.data)"
   ]
  },
  {
   "cell_type": "code",
   "execution_count": 4,
   "metadata": {},
   "outputs": [
    {
     "name": "stdout",
     "output_type": "stream",
     "text": [
      "xenon\n",
      "electron\n",
      "xenon\n",
      "electron\n"
     ]
    }
   ],
   "source": [
    "from itertools import product\n",
    "\n",
    "# TODO: create analyzer\n",
    "\n",
    "keys_ = list(handler.data.__dict__.keys())\n",
    "\n",
    "vals = [\"Derived_Number_Density\", \"Grid_Particles\"]\n",
    "\n",
    "for k, v in product(keys_, vals):\n",
    "    if k.startswith(v):\n",
    "        specie = k.split(v)[1][1:]\n",
    "\n",
    "        if specie:\n",
    "            print(specie)"
   ]
  },
  {
   "cell_type": "code",
   "execution_count": 5,
   "metadata": {},
   "outputs": [],
   "source": [
    "py = handler.data.Particles_Py_electron.data\n",
    "pz = handler.data.Particles_Pz_electron.data\n",
    "_, y, z = handler.data.Grid_Particles_electron.data"
   ]
  },
  {
   "cell_type": "code",
   "execution_count": 8,
   "metadata": {},
   "outputs": [
    {
     "data": {
      "text/plain": [
       "True"
      ]
     },
     "execution_count": 8,
     "metadata": {},
     "output_type": "execute_result"
    }
   ],
   "source": [
    "aaa = [y, py, z, pz]\n",
    "all(sum([aaa[i] * aaa[i + 1] for i in range(0, len(aaa), 2)]) == y * py + z * pz)"
   ]
  },
  {
   "cell_type": "code",
   "execution_count": null,
   "metadata": {},
   "outputs": [],
   "source": [
    "handler.density(\"electron\").shape"
   ]
  },
  {
   "cell_type": "code",
   "execution_count": null,
   "metadata": {},
   "outputs": [],
   "source": [
    "crop = et.core.transform.crop.SimpleCrop.from_abstract_grid(\n",
    "    min=-100, max=100, axis=\"x\", grid=grid, unit=et.core.Unit.nano\n",
    ")"
   ]
  },
  {
   "cell_type": "code",
   "execution_count": null,
   "metadata": {},
   "outputs": [],
   "source": [
    "crop.apply(data.Derived_Number_Density_electron.data).shape"
   ]
  },
  {
   "cell_type": "code",
   "execution_count": null,
   "metadata": {},
   "outputs": [],
   "source": [
    "data.Derived_Number_Density_electron.data.shape"
   ]
  }
 ],
 "metadata": {
  "kernelspec": {
   "display_name": ".venv",
   "language": "python",
   "name": "python3"
  },
  "language_info": {
   "codemirror_mode": {
    "name": "ipython",
    "version": 3
   },
   "file_extension": ".py",
   "mimetype": "text/x-python",
   "name": "python",
   "nbconvert_exporter": "python",
   "pygments_lexer": "ipython3",
   "version": "3.9.19"
  }
 },
 "nbformat": 4,
 "nbformat_minor": 2
}
