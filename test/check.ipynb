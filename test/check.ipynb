{
 "cells": [
  {
   "cell_type": "code",
   "execution_count": 1,
   "metadata": {},
   "outputs": [],
   "source": [
    "import epoch_toolkit as et"
   ]
  },
  {
   "cell_type": "code",
   "execution_count": 2,
   "metadata": {},
   "outputs": [
    {
     "name": "stderr",
     "output_type": "stream",
     "text": [
      "2024-05-07 02:58:24,246 | INFO :: handler :: Reading file: ../test_data/test_sdf_file.sdf\n",
      "2024-05-07 02:58:24,247 | INFO :: handler :: Capturing grid...\n",
      "2024-05-07 02:58:24,248 | INFO :: handler :: Grid: 3D (200, 200, 200)\n"
     ]
    }
   ],
   "source": [
    "handler = et.handler.FileHandler(unit=\"nano\")\n",
    "handler.read(\"../test_data/test_sdf_file.sdf\")"
   ]
  },
  {
   "cell_type": "code",
   "execution_count": 4,
   "metadata": {},
   "outputs": [
    {
     "name": "stderr",
     "output_type": "stream",
     "text": [
      "2024-05-07 02:56:37,148 | INFO :: handler :: Reading file: ../test_data/test_sdf_file.sdf\n",
      "2024-05-07 02:56:37,149 | INFO :: handler :: Creating grid\n",
      "2024-05-07 02:56:37,150 | INFO :: handler :: Grid created: 3D\n"
     ]
    }
   ],
   "source": []
  },
  {
   "cell_type": "code",
   "execution_count": 18,
   "metadata": {},
   "outputs": [
    {
     "name": "stdout",
     "output_type": "stream",
     "text": [
      "xenon\n",
      "electron\n"
     ]
    }
   ],
   "source": [
    "from itertools import product\n",
    "\n",
    "# TODO: create analyzer\n",
    "\n",
    "keys_ = list(handler.data.__dict__.keys())\n",
    "\n",
    "vals = [\"Derived_Number_Density\", \"Grid_Particles\"]\n",
    "\n",
    "for k, v in product(keys_, vals):\n",
    "    if k.startswith(v):\n",
    "        specie = k.split(v)[1][1:]\n",
    "\n",
    "        if specie:\n",
    "            print(specie)"
   ]
  },
  {
   "cell_type": "code",
   "execution_count": 11,
   "metadata": {},
   "outputs": [
    {
     "data": {
      "text/plain": [
       "dict_keys(['Header', 'Run_info', 'Wall_time', 'Total_Particle_Energy_xenon__J_', 'Total_Particle_Energy_electron__J_', 'Total_Particle_Energy_in_Simulation__J_', 'Total_Field_Energy_in_Simulation__J_', 'Derived_Number_Density', 'Derived_Number_Density_xenon', 'Derived_Number_Density_electron', 'Grid_Grid', 'Grid_Grid_mid', 'Absorption_Total_Laser_Energy_Injected__J_', 'Absorption_Fraction_of_Laser_Energy_Absorbed____', 'Grid_CPUs_Original_rank', 'Grid_CPUs_Original_rank_mid', 'CPUs_Original_rank', 'CPUs_Current_rank', 'Surface_Values_boundary_Derived_Number_Density', 'Surface_Values_boundary_Derived_Number_Density_xenon', 'Surface_Values_boundary_Derived_Number_Density_electron', 'Surface_Values_boundary_CPUs_Original_rank', 'Surface_Values_boundary_CPUs_Current_rank', 'Surface_Values_boundary_x_min_Derived_Number_Density', 'Surface_Values_boundary_x_min_Derived_Number_Density_xenon', 'Surface_Values_boundary_x_min_Derived_Number_Density_electron', 'Surface_Values_boundary_x_min_CPUs_Original_rank', 'Surface_Values_boundary_x_min_CPUs_Current_rank', 'Surface_Values_boundary_x_max_Derived_Number_Density', 'Surface_Values_boundary_x_max_Derived_Number_Density_xenon', 'Surface_Values_boundary_x_max_Derived_Number_Density_electron', 'Surface_Values_boundary_x_max_CPUs_Original_rank', 'Surface_Values_boundary_x_max_CPUs_Current_rank', 'Surface_Values_boundary_y_min_Derived_Number_Density', 'Surface_Values_boundary_y_min_Derived_Number_Density_xenon', 'Surface_Values_boundary_y_min_Derived_Number_Density_electron', 'Surface_Values_boundary_y_min_CPUs_Original_rank', 'Surface_Values_boundary_y_min_CPUs_Current_rank', 'Surface_Values_boundary_y_max_Derived_Number_Density', 'Surface_Values_boundary_y_max_Derived_Number_Density_xenon', 'Surface_Values_boundary_y_max_Derived_Number_Density_electron', 'Surface_Values_boundary_y_max_CPUs_Original_rank', 'Surface_Values_boundary_y_max_CPUs_Current_rank', 'Surface_Values_boundary_z_min_Derived_Number_Density', 'Surface_Values_boundary_z_min_Derived_Number_Density_xenon', 'Surface_Values_boundary_z_min_Derived_Number_Density_electron', 'Surface_Values_boundary_z_min_CPUs_Original_rank', 'Surface_Values_boundary_z_min_CPUs_Current_rank', 'Surface_Values_boundary_z_max_Derived_Number_Density', 'Surface_Values_boundary_z_max_Derived_Number_Density_xenon', 'Surface_Values_boundary_z_max_Derived_Number_Density_electron', 'Surface_Values_boundary_z_max_CPUs_Original_rank', 'Surface_Values_boundary_z_max_CPUs_Current_rank'])"
      ]
     },
     "execution_count": 11,
     "metadata": {},
     "output_type": "execute_result"
    }
   ],
   "source": []
  },
  {
   "cell_type": "code",
   "execution_count": 8,
   "metadata": {},
   "outputs": [
    {
     "data": {
      "text/plain": [
       "(200, 200, 200)"
      ]
     },
     "execution_count": 8,
     "metadata": {},
     "output_type": "execute_result"
    }
   ],
   "source": [
    "handler.density(\"electron\").shape"
   ]
  },
  {
   "cell_type": "code",
   "execution_count": 4,
   "metadata": {},
   "outputs": [],
   "source": [
    "crop = et.core.transform.crop.SimpleCrop.from_abstract_grid(\n",
    "    min=-100, max=100, axis=\"x\", grid=grid, unit=et.core.Unit.nano\n",
    ")"
   ]
  },
  {
   "cell_type": "code",
   "execution_count": 5,
   "metadata": {},
   "outputs": [
    {
     "data": {
      "text/plain": [
       "(21, 200, 200)"
      ]
     },
     "execution_count": 5,
     "metadata": {},
     "output_type": "execute_result"
    }
   ],
   "source": [
    "crop.apply(data.Derived_Number_Density_electron.data).shape"
   ]
  },
  {
   "cell_type": "code",
   "execution_count": 8,
   "metadata": {},
   "outputs": [
    {
     "data": {
      "text/plain": [
       "(200, 200, 200)"
      ]
     },
     "execution_count": 8,
     "metadata": {},
     "output_type": "execute_result"
    }
   ],
   "source": [
    "data.Derived_Number_Density_electron.data.shape"
   ]
  }
 ],
 "metadata": {
  "kernelspec": {
   "display_name": ".venv",
   "language": "python",
   "name": "python3"
  },
  "language_info": {
   "codemirror_mode": {
    "name": "ipython",
    "version": 3
   },
   "file_extension": ".py",
   "mimetype": "text/x-python",
   "name": "python",
   "nbconvert_exporter": "python",
   "pygments_lexer": "ipython3",
   "version": "3.9.19"
  }
 },
 "nbformat": 4,
 "nbformat_minor": 2
}
