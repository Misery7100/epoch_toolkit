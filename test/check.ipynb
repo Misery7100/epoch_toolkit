{
 "cells": [
  {
   "cell_type": "code",
   "execution_count": 1,
   "metadata": {},
   "outputs": [],
   "source": [
    "import epoch_toolkit"
   ]
  },
  {
   "cell_type": "code",
   "execution_count": 2,
   "metadata": {},
   "outputs": [
    {
     "name": "stdout",
     "output_type": "stream",
     "text": [
      "Reading file ../test_data/test_sdf_file.sdf\n",
      "t() = time\n",
      "x(201, 201, 201) = grid\n",
      "y(201, 201, 201) = grid\n",
      "z(201, 201, 201) = grid\n",
      "xc(200, 200, 200) = grid_mid\n",
      "yc(200, 200, 200) = grid_mid\n",
      "zc(200, 200, 200) = grid_mid\n"
     ]
    }
   ],
   "source": [
    "data = epoch_toolkit.sdfh.getdata(\"../test_data/test_sdf_file.sdf\")"
   ]
  },
  {
   "cell_type": "code",
   "execution_count": 3,
   "metadata": {},
   "outputs": [
    {
     "data": {
      "text/plain": [
       "0.0007519038253622308"
      ]
     },
     "execution_count": 3,
     "metadata": {},
     "output_type": "execute_result"
    }
   ],
   "source": [
    "data.Absorption_Total_Laser_Energy_Injected__J_.data"
   ]
  }
 ],
 "metadata": {
  "kernelspec": {
   "display_name": ".venv",
   "language": "python",
   "name": "python3"
  },
  "language_info": {
   "codemirror_mode": {
    "name": "ipython",
    "version": 3
   },
   "file_extension": ".py",
   "mimetype": "text/x-python",
   "name": "python",
   "nbconvert_exporter": "python",
   "pygments_lexer": "ipython3",
   "version": "3.11.8"
  }
 },
 "nbformat": 4,
 "nbformat_minor": 2
}
